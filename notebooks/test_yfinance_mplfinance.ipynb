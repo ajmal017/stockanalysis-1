{
 "cells": [
  {
   "cell_type": "code",
   "execution_count": null,
   "metadata": {},
   "outputs": [],
   "source": [
    "import datetime\n",
    "import yfinance as yf\n",
    "import lxml\n",
    "import pandas as pd\n",
    "import numpy as np\n",
    "import matplotlib.pyplot as plt\n",
    "import mplfinance as mpf\n",
    "from ta import trend\n",
    "\n",
    "pd.set_option('display.max_columns', None)\n",
    "pd.set_option('display.max_rows', None)\n",
    "\n",
    "\n",
    "TickerName = 'GS'\n",
    "Period = 'max'   # ['1d','5d','1mo','3mo','6mo','1y','2y','5y','10y','ytd','max']\n",
    "Interval = '1d'  # ['1h', '1d', '5d']"
   ]
  },
  {
   "cell_type": "code",
   "execution_count": null,
   "metadata": {},
   "outputs": [],
   "source": [
    "ticker = yf.Ticker(TickerName)\n",
    "info = ticker.get_info()\n",
    "\n",
    "print(f'longname: {info[\"longName\"]}\\n'\n",
    "      f'website:  {info[\"website\"]}\\n'\n",
    "      f'country:  {info[\"country\"]}\\n'\n",
    "      f'city:     {info[\"city\"]}\\n'\n",
    "      f'sector:   {info[\"sector\"]}\\n'\n",
    "      f'industry: {info[\"industry\"]}\\n'\n",
    "      f'summary:  {info[\"longBusinessSummary\"]}')\n",
    "\n",
    "df = ticker.history(period=Period, interval=Interval)\n",
    "\n",
    "mpf.plot(df,type='candle',volume=True, style='yahoo',figscale=4,figratio=(7.00,3.75))"
   ]
  },
  {
   "cell_type": "code",
   "execution_count": null,
   "metadata": {},
   "outputs": [],
   "source": [
    "df['ema_2'] = df['Close'].ewm(span=2, adjust=False).mean()\n",
    "df['ema_20'] = df['Close'].ewm(span=20, adjust=False).mean()\n",
    "df['ema_50'] = df['Close'].ewm(span=50, adjust=False).mean()\n",
    "df['ema_200'] = df['Close'].ewm(span=200, adjust=False).mean()\n",
    "\n",
    "adxI = trend.ADXIndicator(df.High,df.Low,df.Close,14,False)\n",
    "df['pos_di'] = adxI.adx_pos()\n",
    "df['neg_di'] = adxI.adx_neg()\n",
    "df['adx'] = adxI.adx()\n",
    "\n",
    "fig, axes = plt.subplots(nrows=2, ncols=1, figsize=(20,10))\n",
    "df.plot(y=['Close', 'ema_2', 'ema_20', 'ema_50', 'ema_200'], grid=True, ax=axes[0])\n",
    "df.plot(y=['adx', 'pos_di', 'neg_di'], grid=True, ax=axes[1])"
   ]
  },
  {
   "cell_type": "code",
   "execution_count": null,
   "metadata": {},
   "outputs": [],
   "source": [
    "df.to_csv('data/GS.csv', index=True)"
   ]
  },
  {
   "cell_type": "code",
   "execution_count": null,
   "metadata": {},
   "outputs": [],
   "source": []
  }
 ],
 "metadata": {
  "kernelspec": {
   "display_name": "Python 3",
   "language": "python",
   "name": "python3"
  },
  "language_info": {
   "codemirror_mode": {
    "name": "ipython",
    "version": 3
   },
   "file_extension": ".py",
   "mimetype": "text/x-python",
   "name": "python",
   "nbconvert_exporter": "python",
   "pygments_lexer": "ipython3",
   "version": "3.7.6"
  }
 },
 "nbformat": 4,
 "nbformat_minor": 4
}
