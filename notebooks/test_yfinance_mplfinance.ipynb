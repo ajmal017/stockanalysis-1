{
 "cells": [
  {
   "cell_type": "code",
   "execution_count": null,
   "metadata": {},
   "outputs": [],
   "source": [
    "import datetime\n",
    "import yfinance as yf\n",
    "import lxml\n",
    "import pandas as pd\n",
    "pd.set_option('display.max_columns', None)\n",
    "pd.set_option('display.max_rows', None)\n",
    "\n",
    "import mplfinance as mpf\n",
    "\n",
    "ticker_name = 'ATL.MI'"
   ]
  },
  {
   "cell_type": "code",
   "execution_count": null,
   "metadata": {},
   "outputs": [],
   "source": [
    "ticker = yf.Ticker(ticker_name)\n",
    "info = ticker.get_info()\n",
    "print(f'longname: {info[\"longName\"]}\\n'\n",
    "      f'website:  {info[\"website\"]}\\n'\n",
    "      f'country:  {info[\"country\"]}\\n'\n",
    "      f'city:     {info[\"city\"]}\\n'\n",
    "      f'sector:   {info[\"sector\"]}\\n'\n",
    "      f'industry: {info[\"industry\"]}\\n'\n",
    "      f'summary:  {info[\"longBusinessSummary\"]}')"
   ]
  },
  {
   "cell_type": "code",
   "execution_count": null,
   "metadata": {},
   "outputs": [],
   "source": [
    "Period = '5d'   # ['1d','5d','1mo','3mo','6mo','1y','2y','5y','10y','ytd','max']\n",
    "Interval = '1h'  # ['1h', '1d', '5d']\n",
    "\n",
    "df = ticker.history(period=Period, interval=Interval)\n",
    "\n",
    "mpf.plot(df,type='candle',volume=True, style='yahoo',figscale=4,figratio=(7.00,3.75))"
   ]
  },
  {
   "cell_type": "code",
   "execution_count": null,
   "metadata": {},
   "outputs": [],
   "source": []
  }
 ],
 "metadata": {
  "kernelspec": {
   "display_name": "Python 3",
   "language": "python",
   "name": "python3"
  },
  "language_info": {
   "codemirror_mode": {
    "name": "ipython",
    "version": 3
   },
   "file_extension": ".py",
   "mimetype": "text/x-python",
   "name": "python",
   "nbconvert_exporter": "python",
   "pygments_lexer": "ipython3",
   "version": "3.7.6"
  }
 },
 "nbformat": 4,
 "nbformat_minor": 4
}
