{
 "cells": [
  {
   "cell_type": "markdown",
   "metadata": {},
   "source": [
    "### Based on https://github.com/borisbanushev/stockpredictionai"
   ]
  },
  {
   "cell_type": "code",
   "execution_count": null,
   "metadata": {},
   "outputs": [],
   "source": [
    "from utils import yf_reader\n",
    "\n",
    "#Ticker = {'symbol': 'GS', 'name': 'Goldman Sachs', 'csv': 'data/GS.csv', 'currency': 'USD'}\n",
    "Ticker = {'symbol': 'TGYM.MI', 'name': 'Technogym', 'csv': 'data/TGYM.csv', 'currency': 'EUR'}\n",
    "\n",
    "df = yf_reader.get_history(Ticker['symbol'], Ticker['csv'])\n",
    "\n",
    "df.info()"
   ]
  },
  {
   "cell_type": "code",
   "execution_count": null,
   "metadata": {},
   "outputs": [],
   "source": [
    "from utils import ti\n",
    "\n",
    "import datetime\n",
    "import numpy as np\n",
    "import pandas as pd\n",
    "\n",
    "#import seaborn as sns\n",
    "import matplotlib.pyplot as plt\n",
    "%matplotlib inline\n",
    "\n",
    "#import math\n",
    "\n",
    "#from sklearn.decomposition import PCA\n",
    "#from sklearn.preprocessing import MinMaxScaler\n",
    "#from sklearn.preprocessing import StandardScaler\n",
    "#from sklearn.metrics import accuracy_score\n",
    "\n",
    "#import xgboost as xgb\n",
    "\n",
    "#import warnings\n",
    "#warnings.filterwarnings(\"ignore\")\n",
    "\n",
    "#from mxnet import nd, autograd, gluon\n",
    "#from mxnet.gluon import nn, rnn\n",
    "#import mxnet as mx\n",
    "#context = mx.cpu(); model_ctx=mx.cpu()\n",
    "#mx.random.seed(1719)"
   ]
  },
  {
   "cell_type": "code",
   "execution_count": null,
   "metadata": {},
   "outputs": [],
   "source": [
    "dateparse = lambda x: datetime.datetime.strptime(x, '%Y-%m-%d')\n",
    "\n",
    "df = pd.read_csv(Ticker['csv'], header=0, parse_dates=[0], date_parser=dateparse)\n",
    "\n",
    "df.drop(columns=['Open', 'High', 'Low', 'Dividends', 'Stock Splits'], inplace=True)\n",
    "df.rename(columns={'Close': 'price'}, inplace=True)\n",
    "\n",
    "# Split dataset\n",
    "tt_cutoff = 0.8\n",
    "num_training_days = int(df.shape[0]*tt_cutoff)\n",
    "start_date = df.iloc[0]['Date']\n",
    "cutoff_date = df.iloc[num_training_days-1]['Date']\n",
    "\n",
    "print(f'There are {df.shape[0]} number of days in the dataset.')\n",
    "print(f'Train/Test cut-off set to {tt_cutoff}')\n",
    "print(f'Number of training days: {num_training_days}. [{start_date.strftime(\"%Y-%m-%d\")} to {cutoff_date.strftime(\"%Y-%m-%d\")}]')\n",
    "print(f'Number of test days: {df.shape[0]-num_training_days}.')"
   ]
  },
  {
   "cell_type": "code",
   "execution_count": null,
   "metadata": {},
   "outputs": [],
   "source": [
    "plt.figure(figsize=(14, 5), dpi=100)\n",
    "plt.plot(df['Date'], df['price'], label='Stock price')\n",
    "plt.vlines(cutoff_date, 0, df['price'].max(), linestyles='--', colors='gray', label='Train/Test data cut-off')\n",
    "plt.xlabel('Date')\n",
    "plt.ylabel(Ticker['currency'])\n",
    "plt.title(f'Ticker[\"name\"] stock price')\n",
    "plt.legend()\n",
    "plt.show()"
   ]
  },
  {
   "cell_type": "code",
   "execution_count": null,
   "metadata": {},
   "outputs": [],
   "source": [
    "df_TI = ti.get_technical_indicators(df)\n",
    "\n",
    "ti.plot_technical_indicators(df_TI, 400)"
   ]
  },
  {
   "cell_type": "code",
   "execution_count": null,
   "metadata": {},
   "outputs": [],
   "source": [
    "close_fft = np.fft.fft(np.asarray(df['price'].tolist()))\n",
    "fft_df = pd.DataFrame({'fft':close_fft})\n",
    "df['absolute'] = fft_df['fft'].apply(lambda x: np.abs(x))\n",
    "df['angle'] = fft_df['fft'].apply(lambda x: np.angle(x))\n",
    "fft_list = np.asarray(fft_df['fft'].tolist())\n",
    "for num_ in [3, 6, 9, 100]:\n",
    "    fft_ = np.copy(fft_list); fft_[num_:-num_]=0\n",
    "    df['fft_{}'.format(num_)] = np.real(np.fft.ifft(fft_))\n",
    "    \n",
    "plt.figure(figsize=(14, 7), dpi=100)\n",
    "plt.plot(df['fft_3'], label='Fourier transform with 3 components')\n",
    "plt.plot(df['fft_6'], label='Fourier transform with 6 components')\n",
    "plt.plot(df['fft_9'], label='Fourier transform with 9 components')\n",
    "plt.plot(df['fft_100'], label='Fourier transform with 100 components')\n",
    "plt.plot(df['price'], label='Real')\n",
    "plt.xlabel('Days')\n",
    "plt.ylabel('USD')\n",
    "plt.title('Stock prices & Fourier transforms')\n",
    "plt.legend()\n",
    "plt.show()"
   ]
  },
  {
   "cell_type": "code",
   "execution_count": null,
   "metadata": {},
   "outputs": [],
   "source": [
    "from pandas.plotting import autocorrelation_plot\n",
    "autocorrelation_plot(df['price'].to_list())\n",
    "plt.figure(figsize=(10, 7), dpi=80)\n",
    "plt.show() "
   ]
  },
  {
   "cell_type": "code",
   "execution_count": null,
   "metadata": {},
   "outputs": [],
   "source": [
    "from statsmodels.tsa.arima_model import ARIMA\n",
    "from sklearn.metrics import mean_squared_error\n",
    "from tqdm.notebook import tqdm\n",
    "\n",
    "\n",
    "def ARIMAForecasting(data, start_params, best_pdq=(5,1,2)):\n",
    "    model = ARIMA(data, order=best_pdq)\n",
    "    model_fit = model.fit(start_params = start_params)\n",
    "    prediction = model_fit.forecast()\n",
    "    #This returns only last step\n",
    "    return prediction[0][-1], model_fit.params\n",
    "\n",
    "\n",
    "all_data = df['price'].to_list()\n",
    "train_data = all_data[0:num_training_days]\n",
    "test_data = all_data[num_training_days:]\n",
    "\n",
    "data = train_data\n",
    "predictions = list()\n",
    "fit_params = None\n",
    "for t in tqdm(range(len(test_data))):\n",
    "    real_value = test_data[t]\n",
    "    yhat, _params = ARIMAForecasting(data, fit_params)\n",
    "    fit_params = _params\n",
    "    predictions.append(yhat)\n",
    "    data.append(real_value)\n",
    "    \n",
    "error = mean_squared_error(test_data, predictions)\n",
    "print('Test MSE: %.3f' % error)\n",
    "\n",
    "plt.figure(figsize=(12, 6), dpi=100)\n",
    "plt.plot(test_data, label='Real')\n",
    "plt.plot(predictions, color='red', label='Predicted')\n",
    "plt.xlabel('Days')\n",
    "plt.ylabel('USD')\n",
    "plt.title('Figure 5: ARIMA model')\n",
    "plt.legend()\n",
    "plt.show()"
   ]
  },
  {
   "cell_type": "code",
   "execution_count": null,
   "metadata": {},
   "outputs": [],
   "source": []
  }
 ],
 "metadata": {
  "kernelspec": {
   "display_name": "Python 3",
   "language": "python",
   "name": "python3"
  },
  "language_info": {
   "codemirror_mode": {
    "name": "ipython",
    "version": 3
   },
   "file_extension": ".py",
   "mimetype": "text/x-python",
   "name": "python",
   "nbconvert_exporter": "python",
   "pygments_lexer": "ipython3",
   "version": "3.7.6"
  }
 },
 "nbformat": 4,
 "nbformat_minor": 4
}
