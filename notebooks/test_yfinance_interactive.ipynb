{
 "cells": [
  {
   "cell_type": "code",
   "execution_count": null,
   "metadata": {},
   "outputs": [],
   "source": [
    "from __future__ import print_function\n",
    "from ipywidgets import interact, interactive, fixed, interact_manual\n",
    "from IPython.core.display import display, HTML\n",
    "import ipywidgets as widgets\n",
    "\n",
    "import datetime\n",
    "import yfinance as yf\n",
    "import lxml\n",
    "import pandas as pd\n",
    "pd.set_option('display.max_columns', None)\n",
    "pd.set_option('display.max_rows', None)\n",
    "\n",
    "import plotly.subplots as subplots\n",
    "import plotly.graph_objects as go\n",
    "import plotly.io as pio\n",
    "pio.renderers\n",
    "pio.renderers.default = \"iframe\""
   ]
  },
  {
   "cell_type": "code",
   "execution_count": null,
   "metadata": {},
   "outputs": [],
   "source": [
    "symbols = pd.read_csv('data/symbol.csv', sep=',')\n",
    "symbols.fillna('', inplace=True)\n",
    "ticker = None\n",
    "\n",
    "def get_ticker(TickerName):\n",
    "    global ticker\n",
    "    x = symbols.loc[symbols.SYMBOL == TickerName].to_numpy()\n",
    "    ticker_name = x[0][1] + '.MI'\n",
    "    ticker = yf.Ticker(ticker_name)\n",
    "    info = ticker.get_info()\n",
    "    html = (f'<h1><a href=\"{info[\"website\"]}\">{info[\"longName\"]}</a></h1>'\n",
    "            f'<div><span>{info[\"country\"]}</span><span style=\"margin: 0 10px 0 10px\">-</span><span>{info[\"city\"]}</span></div>'\n",
    "            f'<div><span>{info[\"sector\"]}</span><span style=\"margin: 0 10px 0 10px\">-</span><span>{info[\"industry\"]}</span></div>'\n",
    "            f'<div style=\"margin-top: 10px\"><p>{info[\"longBusinessSummary\"]}</p></div>')\n",
    "    display(HTML(html))\n",
    "    \n",
    "def plot_ticker(Period, Interval):\n",
    "    df = ticker.history(period=Period, interval=\"1h\")\n",
    "    fig = subplots.make_subplots(rows=2, cols=1, shared_xaxes=True)\n",
    "    fig.add_trace(go.Scatter(x=df.index, y=df.Close, name=\"close price\"), row=1, col=1)\n",
    "    fig.add_trace(go.Bar(x=df.index, y=df.Volume, name=\"volume\"), row=2, col=1)\n",
    "    fig.update_layout(title_text=ticker.ticker)\n",
    "    fig.show()\n",
    "    \n",
    "    fig = go.Figure(data=[go.Candlestick(x=df.index, open=df.Open, high=df.High, low=df.Low, close=df.Close)])\n",
    "    fig.show()\n",
    "    \n",
    "interact(get_ticker, TickerName=[tuple(x) for x in symbols[['NAME', 'SYMBOL']].to_numpy()])\n",
    "interact(plot_ticker, Period=['1d','5d','1mo','3mo','6mo','1y','2y','5y','10y','ytd','max'], Interval=['1h', '1d', '5d'])"
   ]
  },
  {
   "cell_type": "code",
   "execution_count": null,
   "metadata": {},
   "outputs": [],
   "source": []
  }
 ],
 "metadata": {
  "kernelspec": {
   "display_name": "Python 3",
   "language": "python",
   "name": "python3"
  },
  "language_info": {
   "codemirror_mode": {
    "name": "ipython",
    "version": 3
   },
   "file_extension": ".py",
   "mimetype": "text/x-python",
   "name": "python",
   "nbconvert_exporter": "python",
   "pygments_lexer": "ipython3",
   "version": "3.7.6"
  }
 },
 "nbformat": 4,
 "nbformat_minor": 4
}
